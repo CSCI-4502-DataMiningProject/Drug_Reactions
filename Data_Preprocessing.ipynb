{
 "cells": [
  {
   "cell_type": "markdown",
   "metadata": {},
   "source": [
    "# Predicting Adverse Drug Reactions Based on Patient Demographics \n",
    "\n",
    "### Anthony Olvera\n",
    "### CSCI 4502 Data Minning Project Fall 2018\n",
    "### Data Integration, Cleaning and Preprocessing"
   ]
  },
  {
   "cell_type": "markdown",
   "metadata": {},
   "source": [
    "The raw data we will process here was downloaded at https://open.fda.gov/tools/downloads/ and inflated to a total of 788 json files. The files take a total of roughley 203 GB of space which will be best managed in a relational database as opposed to files. My goal is to first load the data into a dataframe, filter and reduce by dropping irrelevent attributes follwed by dropping all relevent entries with one or more null values. I will then proceed to preprocess the data by eliminating outliers and normalizing where appropriate. after all cleaning and preprocessing I will store the data as a single postgre sql relational database where it can be accessed in the future for all remaining work on the project.     "
   ]
  },
  {
   "cell_type": "code",
   "execution_count": 1,
   "metadata": {},
   "outputs": [],
   "source": [
    "# Import all nessasary utilities\n",
    "import numpy as np\n",
    "import pandas as pd\n",
    "from pandas.io.json import json_normalize\n",
    "import matplotlib.pyplot as plt\n",
    "import scipy.stats as stats\n",
    "import json"
   ]
  },
  {
   "cell_type": "code",
   "execution_count": 2,
   "metadata": {},
   "outputs": [],
   "source": [
    "# test reading a json file and output result\n",
    "data = json.load(open('G:\\drug-event-0001-of-0004.json'))\n",
    "patient_info = json_normalize(data['results'])\n",
    "df = pd.DataFrame(patient_info)"
   ]
  },
  {
   "cell_type": "code",
   "execution_count": 3,
   "metadata": {},
   "outputs": [
    {
     "data": {
      "text/plain": [
       "['companynumb',\n",
       " 'fulfillexpeditecriteria',\n",
       " 'patient.drug',\n",
       " 'patient.patientdeath.patientdeathdate',\n",
       " 'patient.patientdeath.patientdeathdateformat',\n",
       " 'patient.patientonsetage',\n",
       " 'patient.patientonsetageunit',\n",
       " 'patient.patientsex',\n",
       " 'patient.patientweight',\n",
       " 'patient.reaction',\n",
       " 'primarysource',\n",
       " 'primarysource.qualification',\n",
       " 'primarysource.reportercountry',\n",
       " 'receiptdate',\n",
       " 'receiptdateformat',\n",
       " 'receivedate',\n",
       " 'receivedateformat',\n",
       " 'receiver',\n",
       " 'safetyreportid',\n",
       " 'sender.senderorganization',\n",
       " 'serious',\n",
       " 'seriousnesscongenitalanomali',\n",
       " 'seriousnessdeath',\n",
       " 'seriousnessdisabling',\n",
       " 'seriousnesshospitalization',\n",
       " 'seriousnesslifethreatening',\n",
       " 'seriousnessother',\n",
       " 'transmissiondate',\n",
       " 'transmissiondateformat']"
      ]
     },
     "execution_count": 3,
     "metadata": {},
     "output_type": "execute_result"
    }
   ],
   "source": [
    "# what are the attributes\n",
    "list(df)"
   ]
  },
  {
   "cell_type": "code",
   "execution_count": 4,
   "metadata": {},
   "outputs": [
    {
     "data": {
      "text/html": [
       "<div>\n",
       "<style scoped>\n",
       "    .dataframe tbody tr th:only-of-type {\n",
       "        vertical-align: middle;\n",
       "    }\n",
       "\n",
       "    .dataframe tbody tr th {\n",
       "        vertical-align: top;\n",
       "    }\n",
       "\n",
       "    .dataframe thead th {\n",
       "        text-align: right;\n",
       "    }\n",
       "</style>\n",
       "<table border=\"1\" class=\"dataframe\">\n",
       "  <thead>\n",
       "    <tr style=\"text-align: right;\">\n",
       "      <th></th>\n",
       "      <th>patient.drug</th>\n",
       "      <th>patient.patientdeath.patientdeathdate</th>\n",
       "      <th>patient.patientonsetage</th>\n",
       "      <th>patient.patientsex</th>\n",
       "      <th>patient.patientweight</th>\n",
       "      <th>patient.reaction</th>\n",
       "      <th>primarysource.qualification</th>\n",
       "      <th>primarysource.reportercountry</th>\n",
       "      <th>receivedate</th>\n",
       "      <th>serious</th>\n",
       "      <th>seriousnesscongenitalanomali</th>\n",
       "      <th>seriousnessdeath</th>\n",
       "      <th>seriousnessdisabling</th>\n",
       "      <th>seriousnesshospitalization</th>\n",
       "      <th>seriousnesslifethreatening</th>\n",
       "      <th>seriousnessother</th>\n",
       "      <th>transmissiondate</th>\n",
       "    </tr>\n",
       "  </thead>\n",
       "  <tbody>\n",
       "    <tr>\n",
       "      <th>0</th>\n",
       "      <td>[{'drugstartdateformat': '102', 'medicinalprod...</td>\n",
       "      <td>NaN</td>\n",
       "      <td>NaN</td>\n",
       "      <td>NaN</td>\n",
       "      <td>NaN</td>\n",
       "      <td>[{'reactionmeddrapt': 'DEATH'}]</td>\n",
       "      <td>NaN</td>\n",
       "      <td>AUSTRIA</td>\n",
       "      <td>20101115</td>\n",
       "      <td>1</td>\n",
       "      <td>NaN</td>\n",
       "      <td>1</td>\n",
       "      <td>NaN</td>\n",
       "      <td>NaN</td>\n",
       "      <td>NaN</td>\n",
       "      <td>NaN</td>\n",
       "      <td>20110411</td>\n",
       "    </tr>\n",
       "    <tr>\n",
       "      <th>1</th>\n",
       "      <td>[{'drugstartdateformat': '102', 'medicinalprod...</td>\n",
       "      <td>NaN</td>\n",
       "      <td>NaN</td>\n",
       "      <td>2</td>\n",
       "      <td>NaN</td>\n",
       "      <td>[{'reactionmeddrapt': 'ABORTION SPONTANEOUS'},...</td>\n",
       "      <td>3</td>\n",
       "      <td>UNITED KINGDOM</td>\n",
       "      <td>20090803</td>\n",
       "      <td>1</td>\n",
       "      <td>NaN</td>\n",
       "      <td>NaN</td>\n",
       "      <td>NaN</td>\n",
       "      <td>NaN</td>\n",
       "      <td>NaN</td>\n",
       "      <td>1</td>\n",
       "      <td>20100115</td>\n",
       "    </tr>\n",
       "    <tr>\n",
       "      <th>2</th>\n",
       "      <td>[{'drugstartdateformat': '102', 'medicinalprod...</td>\n",
       "      <td>20040322</td>\n",
       "      <td>66</td>\n",
       "      <td>1</td>\n",
       "      <td>78.9259</td>\n",
       "      <td>[{'reactionmeddrapt': 'INTERSTITIAL LUNG DISEA...</td>\n",
       "      <td>1</td>\n",
       "      <td>UNITED STATES</td>\n",
       "      <td>20061213</td>\n",
       "      <td>1</td>\n",
       "      <td>NaN</td>\n",
       "      <td>1</td>\n",
       "      <td>NaN</td>\n",
       "      <td>NaN</td>\n",
       "      <td>NaN</td>\n",
       "      <td>NaN</td>\n",
       "      <td>20070707</td>\n",
       "    </tr>\n",
       "    <tr>\n",
       "      <th>3</th>\n",
       "      <td>[{'drugstartdateformat': '102', 'medicinalprod...</td>\n",
       "      <td>NaN</td>\n",
       "      <td>61</td>\n",
       "      <td>2</td>\n",
       "      <td>49.4421</td>\n",
       "      <td>[{'reactionmeddrapt': 'ABDOMINAL DISTENSION'},...</td>\n",
       "      <td>NaN</td>\n",
       "      <td>UNITED STATES</td>\n",
       "      <td>20061213</td>\n",
       "      <td>1</td>\n",
       "      <td>NaN</td>\n",
       "      <td>NaN</td>\n",
       "      <td>NaN</td>\n",
       "      <td>NaN</td>\n",
       "      <td>NaN</td>\n",
       "      <td>1</td>\n",
       "      <td>20070707</td>\n",
       "    </tr>\n",
       "    <tr>\n",
       "      <th>4</th>\n",
       "      <td>[{'medicinalproduct': 'IRESSA', 'drugindicatio...</td>\n",
       "      <td>NaN</td>\n",
       "      <td>77</td>\n",
       "      <td>2</td>\n",
       "      <td>NaN</td>\n",
       "      <td>[{'reactionmeddrapt': 'ANAEMIA'}]</td>\n",
       "      <td>1</td>\n",
       "      <td>UNITED STATES</td>\n",
       "      <td>20061213</td>\n",
       "      <td>1</td>\n",
       "      <td>NaN</td>\n",
       "      <td>NaN</td>\n",
       "      <td>NaN</td>\n",
       "      <td>NaN</td>\n",
       "      <td>NaN</td>\n",
       "      <td>1</td>\n",
       "      <td>20070707</td>\n",
       "    </tr>\n",
       "  </tbody>\n",
       "</table>\n",
       "</div>"
      ],
      "text/plain": [
       "                                        patient.drug  \\\n",
       "0  [{'drugstartdateformat': '102', 'medicinalprod...   \n",
       "1  [{'drugstartdateformat': '102', 'medicinalprod...   \n",
       "2  [{'drugstartdateformat': '102', 'medicinalprod...   \n",
       "3  [{'drugstartdateformat': '102', 'medicinalprod...   \n",
       "4  [{'medicinalproduct': 'IRESSA', 'drugindicatio...   \n",
       "\n",
       "  patient.patientdeath.patientdeathdate patient.patientonsetage  \\\n",
       "0                                   NaN                     NaN   \n",
       "1                                   NaN                     NaN   \n",
       "2                              20040322                      66   \n",
       "3                                   NaN                      61   \n",
       "4                                   NaN                      77   \n",
       "\n",
       "  patient.patientsex patient.patientweight  \\\n",
       "0                NaN                   NaN   \n",
       "1                  2                   NaN   \n",
       "2                  1               78.9259   \n",
       "3                  2               49.4421   \n",
       "4                  2                   NaN   \n",
       "\n",
       "                                    patient.reaction  \\\n",
       "0                    [{'reactionmeddrapt': 'DEATH'}]   \n",
       "1  [{'reactionmeddrapt': 'ABORTION SPONTANEOUS'},...   \n",
       "2  [{'reactionmeddrapt': 'INTERSTITIAL LUNG DISEA...   \n",
       "3  [{'reactionmeddrapt': 'ABDOMINAL DISTENSION'},...   \n",
       "4                  [{'reactionmeddrapt': 'ANAEMIA'}]   \n",
       "\n",
       "  primarysource.qualification primarysource.reportercountry receivedate  \\\n",
       "0                         NaN                       AUSTRIA    20101115   \n",
       "1                           3                UNITED KINGDOM    20090803   \n",
       "2                           1                 UNITED STATES    20061213   \n",
       "3                         NaN                 UNITED STATES    20061213   \n",
       "4                           1                 UNITED STATES    20061213   \n",
       "\n",
       "  serious seriousnesscongenitalanomali seriousnessdeath seriousnessdisabling  \\\n",
       "0       1                          NaN                1                  NaN   \n",
       "1       1                          NaN              NaN                  NaN   \n",
       "2       1                          NaN                1                  NaN   \n",
       "3       1                          NaN              NaN                  NaN   \n",
       "4       1                          NaN              NaN                  NaN   \n",
       "\n",
       "  seriousnesshospitalization seriousnesslifethreatening seriousnessother  \\\n",
       "0                        NaN                        NaN              NaN   \n",
       "1                        NaN                        NaN                1   \n",
       "2                        NaN                        NaN              NaN   \n",
       "3                        NaN                        NaN                1   \n",
       "4                        NaN                        NaN                1   \n",
       "\n",
       "  transmissiondate  \n",
       "0         20110411  \n",
       "1         20100115  \n",
       "2         20070707  \n",
       "3         20070707  \n",
       "4         20070707  "
      ]
     },
     "execution_count": 4,
     "metadata": {},
     "output_type": "execute_result"
    }
   ],
   "source": [
    "# Most intersting attibutes include all patient related attributes, primary source, seriousness measures\n",
    "# and transmission information, all other attributes will be droped.\n",
    "df = df.drop(columns = ['companynumb', 'fulfillexpeditecriteria', 'primarysource','receiptdate',\n",
    "                        'receiptdateformat', 'receivedateformat', 'receiver',\n",
    "                       'safetyreportid','sender.senderorganization','transmissiondateformat',\n",
    "                       'patient.patientdeath.patientdeathdateformat','patient.patientonsetageunit'])\n",
    "df.head()"
   ]
  },
  {
   "cell_type": "code",
   "execution_count": 5,
   "metadata": {},
   "outputs": [],
   "source": [
    "# it can be seen that patient.drug and patient.reaction need to be expanded\n",
    "# create two new data frames for each attribute filter/reduce then merge with original \n",
    "\n",
    "# create a new reaction dataframe\n",
    "data = []\n",
    "for row in range(len(df['patient.reaction'])):\n",
    "    reactions = []\n",
    "    for list_index in range(len(df['patient.reaction'][row])):\n",
    "        reactions.append(df['patient.reaction'][row][list_index]['reactionmeddrapt'])\n",
    "    data.append(reactions)\n",
    "reaction = pd.DataFrame(data)\n",
    "\n",
    "# create a new drug dataframe \n",
    "data = []\n",
    "for row in range(len(df['patient.drug'])):\n",
    "    drugs = []\n",
    "    for list_index in range(len(df['patient.drug'][row])):\n",
    "        drugs.append(df['patient.drug'][row][list_index]['medicinalproduct'])\n",
    "    data.append(drugs)\n",
    "drug = pd.DataFrame(data)\n",
    "\n",
    "# give columns appropriate names  \n",
    "for column in reaction.columns:\n",
    "    reaction = reaction.rename(columns = {column : 'Reaction_' + str(column)})\n",
    "    \n",
    "for column in drug.columns:\n",
    "    drug = drug.rename(columns = {column : 'Drug_' + str(column)})\n",
    "    "
   ]
  },
  {
   "cell_type": "code",
   "execution_count": 6,
   "metadata": {},
   "outputs": [],
   "source": [
    "# Now drop the nested columns and merge with new dataframes\n",
    "df = df.drop(columns = ['patient.drug','patient.reaction'])\n",
    "\n",
    "patient_info = pd.concat([df, drug, reaction], axis=1, join='inner')\n",
    "\n",
    "#some more column filtering\n",
    "patient_info = patient_info[['patient.patientonsetage',\t'patient.patientsex','patient.patientweight', \n",
    "                             'primarysource.reportercountry','serious','transmissiondate', \n",
    "                             'receivedate','Drug_0', 'Reaction_0', 'Reaction_1', 'Reaction_2']]\n"
   ]
  },
  {
   "cell_type": "code",
   "execution_count": 7,
   "metadata": {},
   "outputs": [
    {
     "data": {
      "text/plain": [
       "patient.patientonsetage          object\n",
       "patient.patientsex               object\n",
       "patient.patientweight            object\n",
       "primarysource.reportercountry    object\n",
       "serious                          object\n",
       "transmissiondate                 object\n",
       "receivedate                      object\n",
       "Drug_0                           object\n",
       "Reaction_0                       object\n",
       "Reaction_1                       object\n",
       "Reaction_2                       object\n",
       "dtype: object"
      ]
     },
     "execution_count": 7,
     "metadata": {},
     "output_type": "execute_result"
    }
   ],
   "source": [
    "# check column datatypes\n",
    "patient_info.dtypes"
   ]
  },
  {
   "cell_type": "code",
   "execution_count": 8,
   "metadata": {},
   "outputs": [],
   "source": [
    "# convert columns to numeric data\n",
    "patient_info['patient.patientonsetage'] = pd.to_numeric(df['patient.patientonsetage'])\n",
    "patient_info['patient.patientweight'] = pd.to_numeric(df['patient.patientweight'])\n",
    "patient_info['patient.patientsex'] = pd.to_numeric(df['patient.patientsex'])\n",
    "\n",
    "# Now eliminate outliers on age and weight\n",
    "age_q1 = patient_info['patient.patientonsetage'].quantile(0.25)\n",
    "age_q3 = patient_info['patient.patientonsetage'].quantile(0.75)\n",
    "age_IQR = age_q3 - age_q1\n",
    "weight_q1 = patient_info['patient.patientweight'].quantile(0.25)\n",
    "weight_q3 = patient_info['patient.patientweight'].quantile(0.75)\n",
    "weight_IQR = weight_q3 - weight_q1\n",
    "age_upperbound = age_q3 + 1.5*age_IQR\n",
    "age_lowerbound = age_q1 - 1.5*age_IQR\n",
    "weight_upperbound = weight_q3 + 1.5*weight_IQR\n",
    "weight_lowerbound = weight_q3 - 1.5*weight_IQR\n",
    "patient_info = patient_info.drop(\n",
    "    patient_info[patient_info['patient.patientonsetage'] < age_lowerbound].index)\n",
    "patient_info = patient_info.drop(\n",
    "    patient_info[patient_info['patient.patientonsetage'] > age_upperbound].index)\n",
    "patient_info = patient_info.drop(\n",
    "    patient_info[patient_info['patient.patientweight'] < weight_lowerbound].index)\n",
    "patient_info = patient_info.drop(\n",
    "    patient_info[patient_info['patient.patientweight'] > weight_upperbound].index)\n"
   ]
  },
  {
   "cell_type": "code",
   "execution_count": 9,
   "metadata": {},
   "outputs": [
    {
     "data": {
      "text/plain": [
       "patient.patientonsetage          2463\n",
       "patient.patientsex               2463\n",
       "patient.patientweight            2463\n",
       "primarysource.reportercountry      36\n",
       "serious                          2463\n",
       "transmissiondate                 2463\n",
       "receivedate                      2463\n",
       "Drug_0                           2463\n",
       "Reaction_0                       2463\n",
       "Reaction_1                       1742\n",
       "Reaction_2                       1258\n",
       "dtype: int64"
      ]
     },
     "execution_count": 9,
     "metadata": {},
     "output_type": "execute_result"
    }
   ],
   "source": [
    "# drop all rows with null patient demographic info \n",
    "patient_info = patient_info.dropna(subset=['patient.patientonsetage', 'patient.patientsex',\n",
    "                                                                             'patient.patientweight',])\n",
    "# drop rows with patientsex = 0\n",
    "patient_info = patient_info[patient_info['patient.patientsex'] != 0]\n",
    "\n",
    "# make sure we will still have millions of data points  \n",
    "patient_info.count()"
   ]
  },
  {
   "cell_type": "code",
   "execution_count": 10,
   "metadata": {},
   "outputs": [
    {
     "data": {
      "text/html": [
       "<div>\n",
       "<style scoped>\n",
       "    .dataframe tbody tr th:only-of-type {\n",
       "        vertical-align: middle;\n",
       "    }\n",
       "\n",
       "    .dataframe tbody tr th {\n",
       "        vertical-align: top;\n",
       "    }\n",
       "\n",
       "    .dataframe thead th {\n",
       "        text-align: right;\n",
       "    }\n",
       "</style>\n",
       "<table border=\"1\" class=\"dataframe\">\n",
       "  <thead>\n",
       "    <tr style=\"text-align: right;\">\n",
       "      <th></th>\n",
       "      <th>patient.patientonsetage</th>\n",
       "      <th>patient.patientsex</th>\n",
       "      <th>patient.patientweight</th>\n",
       "      <th>primarysource.reportercountry</th>\n",
       "      <th>serious</th>\n",
       "      <th>transmissiondate</th>\n",
       "      <th>receivedate</th>\n",
       "      <th>Drug_0</th>\n",
       "      <th>Reaction_0</th>\n",
       "      <th>Reaction_1</th>\n",
       "      <th>Reaction_2</th>\n",
       "    </tr>\n",
       "  </thead>\n",
       "  <tbody>\n",
       "    <tr>\n",
       "      <th>2</th>\n",
       "      <td>66.0</td>\n",
       "      <td>1.0</td>\n",
       "      <td>78.9259</td>\n",
       "      <td>UNITED STATES</td>\n",
       "      <td>1</td>\n",
       "      <td>20070707</td>\n",
       "      <td>20061213</td>\n",
       "      <td>IRESSA</td>\n",
       "      <td>INTERSTITIAL LUNG DISEASE</td>\n",
       "      <td>None</td>\n",
       "      <td>None</td>\n",
       "    </tr>\n",
       "    <tr>\n",
       "      <th>3</th>\n",
       "      <td>61.0</td>\n",
       "      <td>2.0</td>\n",
       "      <td>49.4421</td>\n",
       "      <td>UNITED STATES</td>\n",
       "      <td>1</td>\n",
       "      <td>20070707</td>\n",
       "      <td>20061213</td>\n",
       "      <td>IRESSA</td>\n",
       "      <td>ABDOMINAL DISTENSION</td>\n",
       "      <td>BLOOD PRESSURE DECREASED</td>\n",
       "      <td>CANDIDIASIS</td>\n",
       "    </tr>\n",
       "    <tr>\n",
       "      <th>5</th>\n",
       "      <td>67.0</td>\n",
       "      <td>2.0</td>\n",
       "      <td>74.8435</td>\n",
       "      <td>UNITED STATES</td>\n",
       "      <td>1</td>\n",
       "      <td>20070707</td>\n",
       "      <td>20061213</td>\n",
       "      <td>IRESSA</td>\n",
       "      <td>CHILLS</td>\n",
       "      <td>DYSPNOEA</td>\n",
       "      <td>FATIGUE</td>\n",
       "    </tr>\n",
       "    <tr>\n",
       "      <th>14</th>\n",
       "      <td>56.0</td>\n",
       "      <td>1.0</td>\n",
       "      <td>75.7507</td>\n",
       "      <td>UNITED STATES</td>\n",
       "      <td>1</td>\n",
       "      <td>20070707</td>\n",
       "      <td>20061213</td>\n",
       "      <td>IRESSA</td>\n",
       "      <td>INTERSTITIAL LUNG DISEASE</td>\n",
       "      <td>None</td>\n",
       "      <td>None</td>\n",
       "    </tr>\n",
       "    <tr>\n",
       "      <th>17</th>\n",
       "      <td>66.0</td>\n",
       "      <td>1.0</td>\n",
       "      <td>72.5755</td>\n",
       "      <td>UNITED STATES</td>\n",
       "      <td>2</td>\n",
       "      <td>20070707</td>\n",
       "      <td>20061212</td>\n",
       "      <td>CASODEX</td>\n",
       "      <td>BLOOD CHOLESTEROL INCREASED</td>\n",
       "      <td>None</td>\n",
       "      <td>None</td>\n",
       "    </tr>\n",
       "  </tbody>\n",
       "</table>\n",
       "</div>"
      ],
      "text/plain": [
       "    patient.patientonsetage  patient.patientsex  patient.patientweight  \\\n",
       "2                      66.0                 1.0                78.9259   \n",
       "3                      61.0                 2.0                49.4421   \n",
       "5                      67.0                 2.0                74.8435   \n",
       "14                     56.0                 1.0                75.7507   \n",
       "17                     66.0                 1.0                72.5755   \n",
       "\n",
       "   primarysource.reportercountry serious transmissiondate receivedate  \\\n",
       "2                  UNITED STATES       1         20070707    20061213   \n",
       "3                  UNITED STATES       1         20070707    20061213   \n",
       "5                  UNITED STATES       1         20070707    20061213   \n",
       "14                 UNITED STATES       1         20070707    20061213   \n",
       "17                 UNITED STATES       2         20070707    20061212   \n",
       "\n",
       "     Drug_0                   Reaction_0                Reaction_1  \\\n",
       "2    IRESSA    INTERSTITIAL LUNG DISEASE                      None   \n",
       "3    IRESSA         ABDOMINAL DISTENSION  BLOOD PRESSURE DECREASED   \n",
       "5    IRESSA                       CHILLS                  DYSPNOEA   \n",
       "14   IRESSA    INTERSTITIAL LUNG DISEASE                      None   \n",
       "17  CASODEX  BLOOD CHOLESTEROL INCREASED                      None   \n",
       "\n",
       "     Reaction_2  \n",
       "2          None  \n",
       "3   CANDIDIASIS  \n",
       "5       FATIGUE  \n",
       "14         None  \n",
       "17         None  "
      ]
     },
     "execution_count": 10,
     "metadata": {},
     "output_type": "execute_result"
    }
   ],
   "source": [
    "# Preview of the data\n",
    "patient_info.head()"
   ]
  },
  {
   "cell_type": "code",
   "execution_count": 11,
   "metadata": {},
   "outputs": [
    {
     "data": {
      "image/png": "[encoded data removed]",
      "text/plain": [
       "<Figure size 432x288 with 1 Axes>"
      ]
     },
     "metadata": {},
     "output_type": "display_data"
    }
   ],
   "source": [
    "# check to see if patient demographic info is normally distributed or skewed\n",
    "patient_info.hist(column = 'patient.patientonsetage', bins=20);"
   ]
  },
  {
   "cell_type": "code",
   "execution_count": 17,
   "metadata": {},
   "outputs": [
    {
     "data": {
      "image/png": "[encoded data removed]",
      "text/plain": [
       "<Figure size 432x288 with 1 Axes>"
      ]
     },
     "metadata": {},
     "output_type": "display_data"
    }
   ],
   "source": [
    "# verify with qq plot\n",
    "stats.probplot(patient_info['patient.patientonsetage'], dist = 'norm', plot = plt,);"
   ]
  },
  {
   "cell_type": "code",
   "execution_count": 13,
   "metadata": {},
   "outputs": [
    {
     "data": {
      "image/png": "[encoded data removed]",
      "text/plain": [
       "<Figure size 432x288 with 1 Axes>"
      ]
     },
     "metadata": {},
     "output_type": "display_data"
    }
   ],
   "source": [
    "patient_info.hist(column = 'patient.patientweight', bins=20);"
   ]
  },
  {
   "cell_type": "code",
   "execution_count": 23,
   "metadata": {},
   "outputs": [
    {
     "data": {
      "text/plain": [
       "SkewtestResult(statistic=11.766181724799404, pvalue=5.83041859092924e-32)"
      ]
     },
     "execution_count": 23,
     "metadata": {},
     "output_type": "execute_result"
    },
    {
     "data": {
      "image/png": "[encoded data removed]",
      "text/plain": [
       "<Figure size 432x288 with 1 Axes>"
      ]
     },
     "metadata": {},
     "output_type": "display_data"
    }
   ],
   "source": [
    "stats.probplot(patient_info['patient.patientweight'], dist = 'norm', plot = plt,);\n",
    "\n",
    "# measure skew\n",
    "weight_skew = stats.skew(patient_info['patient.patientweight'])\n",
    "weight_skew\n",
    "\n",
    "# test skew\n",
    "stats.skewtest(patient_info['patient.patientweight'])\n"
   ]
  },
  {
   "cell_type": "code",
   "execution_count": 14,
   "metadata": {},
   "outputs": [
    {
     "data": {
      "image/png": "[encoded data removed]",
      "text/plain": [
       "<Figure size 432x288 with 1 Axes>"
      ]
     },
     "metadata": {},
     "output_type": "display_data"
    }
   ],
   "source": [
    "# Plot bar chart of percentage of male vs female, male = 1, female = 2\n",
    "patient_info['patient.patientsex'].value_counts(1).plot(kind = 'bar', title = 'patient.patientsex');"
   ]
  },
  {
   "cell_type": "code",
   "execution_count": 15,
   "metadata": {},
   "outputs": [
    {
     "data": {
      "image/png": "[encoded data removed]",
      "text/plain": [
       "<Figure size 432x288 with 1 Axes>"
      ]
     },
     "metadata": {},
     "output_type": "display_data"
    }
   ],
   "source": [
    "# Weight looks slightley right skewed, make box plot for comparison\n",
    "boxplot = patient_info.boxplot(column=['patient.patientonsetage', 'patient.patientweight']);"
   ]
  },
  {
   "cell_type": "code",
   "execution_count": null,
   "metadata": {},
   "outputs": [],
   "source": []
  }
 ],
 "metadata": {
  "kernelspec": {
   "display_name": "Python 3",
   "language": "python",
   "name": "python3"
  },
  "language_info": {
   "codemirror_mode": {
    "name": "ipython",
    "version": 3
   },
   "file_extension": ".py",
   "mimetype": "text/x-python",
   "name": "python",
   "nbconvert_exporter": "python",
   "pygments_lexer": "ipython3",
   "version": "3.7.0"
  }
 },
 "nbformat": 4,
 "nbformat_minor": 2
}
